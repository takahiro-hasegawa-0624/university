{
 "cells": [
  {
   "cell_type": "markdown",
   "metadata": {},
   "source": [
    "幅優先探索による最短経路アルゴリズム"
   ]
  },
  {
   "cell_type": "code",
   "execution_count": 1,
   "metadata": {
    "collapsed": true
   },
   "outputs": [],
   "source": [
    "#配列qの末尾に要素vを挿入する関数\n",
    "def enqueue(q,v):\n",
    "    q.append(v)\n",
    "    return q"
   ]
  },
  {
   "cell_type": "code",
   "execution_count": 2,
   "metadata": {
    "collapsed": true
   },
   "outputs": [],
   "source": [
    "#配列qの先頭から要素vを出力し、そのvを削除する関数\n",
    "def dequeue(q):\n",
    "    v = q[0]\n",
    "    q = q[1:]\n",
    "    return v,q"
   ]
  },
  {
   "cell_type": "code",
   "execution_count": 3,
   "metadata": {
    "collapsed": true
   },
   "outputs": [],
   "source": [
    "#隣接リスト表現で、幅優先探索によりsからtへの最短路を出力する関数\n",
    "#s:始点、t:終点、Adj:隣接リスト\n",
    "def breadth_first_search(s, t, Adj):\n",
    "    Q=[] #キューの空配列\n",
    "    d=[] #Adjの要素に対応した距離を格納する配列\n",
    "    route=[] #Adjの要素に対応した最短路の配列を格納する配列\n",
    "    \n",
    "    for i in range(len(Adj)):\n",
    "        d.append(-1) #未調査、または到達不可能なノードへの距離は-1とする\n",
    "        route.append([]) #vへの最短路をv番目の要素に格納する\n",
    "    \n",
    "    Q = enqueue(Q,s) #始点を挿入する\n",
    "    d[s] =0 #始点を距離の起点とする\n",
    "    route[s]= [s] #始点から始点への最短路\n",
    "    \n",
    "    if s == t:\n",
    "        return f\"最短路は{route[s]}\" #始点と終点が一致する場合、不動であることが最短路\n",
    "    \n",
    "    while len(Q) > 0:\n",
    "        v, Q = dequeue(Q)\n",
    "        \n",
    "        for j in range(len(Adj[v])): #vに隣接する全てのノードについて調べる\n",
    "            if d[Adj[v][j]] == -1: #vに隣接するあるノードが未調査の場合、\n",
    "                d[Adj[v][j]] = d[v] + 1 #そのノードへの距離は、vへの距離+1である\n",
    "                route[Adj[v][j]] = route[v] + [Adj[v][j]] #そのノードへの最短路は、vへの最短路→vである\n",
    "                \n",
    "                if Adj[v][j] == t:\n",
    "                    return f\"最短路は{route[Adj[v][j]]}\" #そのノードが終点の場合、最短路を出力して終了\n",
    "                \n",
    "                Q = enqueue(Q, Adj[v][j])\n",
    "    \n",
    "    if d[t] == -1:\n",
    "        return \"無し\" #幅優先探索で終点が現れない場合、到達不可能である"
   ]
  },
  {
   "cell_type": "code",
   "execution_count": 4,
   "metadata": {
    "collapsed": true
   },
   "outputs": [],
   "source": [
    "#講義の配布資料の重み無し有向グラフを隣接リスト表現\n",
    "Adj=[[1,4],[2,5],[5],[2],[4],[],[5,3]]"
   ]
  },
  {
   "cell_type": "code",
   "execution_count": 5,
   "metadata": {},
   "outputs": [
    {
     "data": {
      "text/plain": [
       "'最短路は[0, 1, 5]'"
      ]
     },
     "execution_count": 5,
     "metadata": {},
     "output_type": "execute_result"
    }
   ],
   "source": [
    "breadth_first_search(0, 5, Adj)"
   ]
  }
 ],
 "metadata": {
  "kernelspec": {
   "display_name": "Python 3",
   "language": "python",
   "name": "python3"
  },
  "language_info": {
   "codemirror_mode": {
    "name": "ipython",
    "version": 3
   },
   "file_extension": ".py",
   "mimetype": "text/x-python",
   "name": "python",
   "nbconvert_exporter": "python",
   "pygments_lexer": "ipython3",
   "version": "3.6.1"
  }
 },
 "nbformat": 4,
 "nbformat_minor": 2
}
